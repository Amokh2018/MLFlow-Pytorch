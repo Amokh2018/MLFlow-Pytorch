{
 "cells": [
  {
   "attachments": {},
   "cell_type": "markdown",
   "metadata": {},
   "source": [
    "## Setup Environment <br>\n",
    "<br>\n",
    "• Torch - 1.6.0<br>\n",
    "• Torchvision – 0.7.0<br>\n",
    "• CUDA – 10.1<br>\n",
    "• CuDNN – v7.6.5.32 for CUDA 10.1<br>\n",
    "• Sklearn – 0.22.2.post1<br>\n",
    "• MLFlow – 1.10.0<br>\n",
    "• numpy – 1.18.5<br>"
   ]
  },
  {
   "cell_type": "code",
   "execution_count": null,
   "metadata": {},
   "outputs": [],
   "source": [
    "import torch\n",
    "import torch.nn as nn\n",
    "from torch.utils import data\n",
    "import torchvision\n",
    "import torchvision.datasets\n",
    "import sklearn\n",
    "from sklearn.metrics import roc_auc_score, accuracy_score\n",
    "import numpy as np \n",
    "import mlflow\n",
    "import mlflow.pytorch"
   ]
  }
 ],
 "metadata": {
  "kernelspec": {
   "display_name": "base",
   "language": "python",
   "name": "python3"
  },
  "language_info": {
   "name": "python",
   "version": "3.10.9"
  },
  "orig_nbformat": 4
 },
 "nbformat": 4,
 "nbformat_minor": 2
}
